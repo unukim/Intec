{
 "cells": [
  {
   "cell_type": "code",
   "execution_count": 1,
   "id": "624f2807-4513-419e-82ce-0b0e92e9fc68",
   "metadata": {},
   "outputs": [
    {
     "ename": "ModuleNotFoundError",
     "evalue": "No module named 'websockets'",
     "output_type": "error",
     "traceback": [
      "\u001b[0;31m---------------------------------------------------------------------------\u001b[0m",
      "\u001b[0;31mModuleNotFoundError\u001b[0m                       Traceback (most recent call last)",
      "Cell \u001b[0;32mIn[1], line 1\u001b[0m\n\u001b[0;32m----> 1\u001b[0m \u001b[38;5;28;01mfrom\u001b[39;00m \u001b[38;5;21;01mwebsockets\u001b[39;00m\u001b[38;5;21;01m.\u001b[39;00m\u001b[38;5;21;01msync\u001b[39;00m\u001b[38;5;21;01m.\u001b[39;00m\u001b[38;5;21;01mclient\u001b[39;00m \u001b[38;5;28;01mimport\u001b[39;00m connect\n\u001b[1;32m      2\u001b[0m \u001b[38;5;28;01mimport\u001b[39;00m \u001b[38;5;21;01mjson\u001b[39;00m\n",
      "\u001b[0;31mModuleNotFoundError\u001b[0m: No module named 'websockets'"
     ]
    }
   ],
   "source": [
    "from websockets.sync.client import connect\n",
    "import json"
   ]
  },
  {
   "cell_type": "markdown",
   "id": "9b48b2a2-b94c-4d7b-bf9f-5f0fbed51b11",
   "metadata": {},
   "source": [
    "In this example we use the websockets library (https://websockets.readthedocs.io/en/stable/)\n",
    "\n",
    "This is a super simple way to receive the websocket data, but feel free to use other methods"
   ]
  },
  {
   "cell_type": "code",
   "execution_count": null,
   "id": "c4b4dc07-4e65-43ef-8c99-bae7e0869a91",
   "metadata": {},
   "outputs": [],
   "source": [
    "def receive_data():\n",
    "    max_msg = 10 # Feel free to change this or just let it loop forever. Maybe best to keep it low while testing...\n",
    "    with connect(\"ws://192.87.172.71:1338\") as websocket:\n",
    "        count = 0\n",
    "        while count < max_msg:\n",
    "            msg = websocket.recv()\n",
    "            try:\n",
    "                msg = json.loads(msg)\n",
    "                handle_message(msg) # Call function to do the actual data handling\n",
    "            except json.JSONDecodeError:\n",
    "                print(\"Failed to decode json, assuming next packet will be ok...\")\n",
    "                pass\n",
    "            except Exception as e:\n",
    "                # Assume something went wrong and stop receiving\n",
    "                print(\"Something went horribly wrong!\")\n",
    "                print(\"Error:\", e)\n",
    "                break\n",
    "            \n",
    "            count += 1\n",
    "        print(\"Received %d messages!\" % count)"
   ]
  },
  {
   "cell_type": "markdown",
   "id": "b8fbefdc-d105-461c-a2e2-69ee3aeaed83",
   "metadata": {},
   "source": [
    "# 'Packet' format\n",
    "The websocket will give you one entry per packet that was received on a receiver.\n",
    "\n",
    "The packet can have the following fields:\n",
    "\n",
    "- `address`: The address of the airplane that transmitted this message; you can use the `address` field to match different messages for the same aircraft,\n",
    "- `altitude`: The altitude (in feet [https://en.wikipedia.org/wiki/Foot_(unit)]) of the airplane,\n",
    "- `latitude`: The latitude of the airplane,\n",
    "- `longitude`: The longitude of the airplane,\n",
    "- `speed`: The speed (in knots [https://en.wikipedia.org/wiki/Knot_(unit)]) of the airplane,\n",
    "- `heading`: The heading (in degrees) of the airplane,\n",
    "- `callsign`: The callsign of the airplane\n",
    "- `timestamp`: The time at which the receiver received the message. Note that this will not be exactly the same on both receivers due to processing delays and the clocks not being exactly in sync!\n",
    "- `rssi`: The received signal strength indication of the message as determined by the receiver,\n",
    "- `receiver`: The name of the receiver that received this message (either 'zi-5067' or 'zi-5110')\n",
    "\n",
    "Note that due to there being two receivers this also means that some packets will be received twice, once on each receiver! You can detect this by noticing that some of the fields will be identical. Only the `timestamp`, `rssi` and `receiver` fields will be different.\n",
    "\n",
    "There are 4 different 'types' of messages you will need to handle:\n",
    "- The 'location' message: Has the `altitude`, `latitude` and `longitude` information,\n",
    "- The 'altitude' message: This only has the `altitude` field,\n",
    "- The 'speed' message: Has the `speed` and `heading` information,\n",
    "- The 'callsign' message: Has the `callsign` information."
   ]
  },
  {
   "cell_type": "code",
   "execution_count": null,
   "id": "65eb157b-e525-4504-8c2b-d1e47ecd1d10",
   "metadata": {},
   "outputs": [],
   "source": [
    "def handle_message(msg):\n",
    "    print(msg)\n",
    "    if 'altitude' in msg: # check if this is one of the two types with altitude info\n",
    "        if msg['altitude'] * 0.3048 >= 10000:\n",
    "            print(\"Plane {} is at 10km or higher!\".format(msg['address']))"
   ]
  },
  {
   "cell_type": "code",
   "execution_count": null,
   "id": "02de0416-9580-4b27-ae09-5675cb0aab46",
   "metadata": {},
   "outputs": [],
   "source": [
    "receive_data()"
   ]
  },
  {
   "cell_type": "code",
   "execution_count": null,
   "id": "9dbf1c98-e500-44fe-abb1-76f3e4b6e7b0",
   "metadata": {},
   "outputs": [],
   "source": []
  }
 ],
 "metadata": {
  "kernelspec": {
   "display_name": "Python 3 (ipykernel)",
   "language": "python",
   "name": "python3"
  },
  "language_info": {
   "codemirror_mode": {
    "name": "ipython",
    "version": 3
   },
   "file_extension": ".py",
   "mimetype": "text/x-python",
   "name": "python",
   "nbconvert_exporter": "python",
   "pygments_lexer": "ipython3",
   "version": "3.12.2"
  }
 },
 "nbformat": 4,
 "nbformat_minor": 5
}
